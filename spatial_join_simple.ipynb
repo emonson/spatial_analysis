{
 "cells": [
  {
   "cell_type": "markdown",
   "metadata": {},
   "source": [
    "## GeoPandas spatial join example\n",
    "\n",
    "This is a simple example of how to do a spatial join between a data\n",
    "set of (latitude, longitude) pairs to an Esri shapefile to get the census\n",
    "tract ID for each lat/lon pair using the Python \n",
    "[GeoPandas](http://geopandas.org/)\n",
    "module without having to use QGIS or ArcPro.\n",
    "\n",
    "### Python GIS Module Installation\n",
    "\n",
    "If you're using the Anaconda Python 3 \n",
    "[standard](https://www.anaconda.com/distribution/) or \n",
    "[miniconda](https://docs.conda.io/en/latest/miniconda.html)\n",
    "distribution, it's easier to get everything working without library conflicts if you\n",
    "create a separate environment for this GIS work. In the Anaconda Prompt type\n",
    "\n",
    "```\n",
    "conda create --name GIS -c conda-forge geopandas fiona shapely\n",
    "```\n",
    "\n",
    "then to \"activate\" this environment, type\n",
    "\n",
    "```\n",
    "conda activate GIS\n",
    "```"
   ]
  },
  {
   "cell_type": "markdown",
   "metadata": {},
   "source": [
    "### Import modules"
   ]
  },
  {
   "cell_type": "code",
   "execution_count": 4,
   "metadata": {},
   "outputs": [],
   "source": [
    "import geopandas as gpd\n",
    "import pandas as pd\n",
    "from shapely.geometry import Point\n",
    "import os"
   ]
  },
  {
   "cell_type": "markdown",
   "metadata": {},
   "source": [
    "### Read in census tracts shapefile\n",
    "\n",
    "This is the 2010 California, Los Angeles County shapefile, downloaded from [the US Census Bureau web interface](https://www.census.gov/cgi-bin/geo/shapefiles/index.php?year=2010&layergroup=Census+Tracts)"
   ]
  },
  {
   "cell_type": "code",
   "execution_count": 12,
   "metadata": {},
   "outputs": [
    {
     "data": {
      "text/html": [
       "<div>\n",
       "<style scoped>\n",
       "    .dataframe tbody tr th:only-of-type {\n",
       "        vertical-align: middle;\n",
       "    }\n",
       "\n",
       "    .dataframe tbody tr th {\n",
       "        vertical-align: top;\n",
       "    }\n",
       "\n",
       "    .dataframe thead th {\n",
       "        text-align: right;\n",
       "    }\n",
       "</style>\n",
       "<table border=\"1\" class=\"dataframe\">\n",
       "  <thead>\n",
       "    <tr style=\"text-align: right;\">\n",
       "      <th></th>\n",
       "      <th>CT00</th>\n",
       "      <th>LABEL</th>\n",
       "      <th>Shape_STAr</th>\n",
       "      <th>Shape_STLe</th>\n",
       "      <th>geometry</th>\n",
       "    </tr>\n",
       "  </thead>\n",
       "  <tbody>\n",
       "    <tr>\n",
       "      <th>0</th>\n",
       "      <td>101110</td>\n",
       "      <td>1011.10</td>\n",
       "      <td>1.228537e+07</td>\n",
       "      <td>15056.954289</td>\n",
       "      <td>POLYGON ((6475581.002 1916939.627, 6475580.499...</td>\n",
       "    </tr>\n",
       "    <tr>\n",
       "      <th>1</th>\n",
       "      <td>101120</td>\n",
       "      <td>1011.20</td>\n",
       "      <td>1.364394e+08</td>\n",
       "      <td>70339.952869</td>\n",
       "      <td>POLYGON ((6471660.000 1919631.502, 6471661.499...</td>\n",
       "    </tr>\n",
       "    <tr>\n",
       "      <th>2</th>\n",
       "      <td>101210</td>\n",
       "      <td>1012.10</td>\n",
       "      <td>7.019669e+06</td>\n",
       "      <td>12082.404482</td>\n",
       "      <td>POLYGON ((6473070.498 1913983.375, 6472914.850...</td>\n",
       "    </tr>\n",
       "    <tr>\n",
       "      <th>3</th>\n",
       "      <td>101220</td>\n",
       "      <td>1012.20</td>\n",
       "      <td>7.485860e+06</td>\n",
       "      <td>12652.916695</td>\n",
       "      <td>POLYGON ((6477593.248 1914091.178, 6477595.001...</td>\n",
       "    </tr>\n",
       "    <tr>\n",
       "      <th>4</th>\n",
       "      <td>101300</td>\n",
       "      <td>1013.00</td>\n",
       "      <td>2.784498e+07</td>\n",
       "      <td>28343.215220</td>\n",
       "      <td>POLYGON ((6480645.620 1906746.726, 6480594.842...</td>\n",
       "    </tr>\n",
       "  </tbody>\n",
       "</table>\n",
       "</div>"
      ],
      "text/plain": [
       "     CT00    LABEL    Shape_STAr    Shape_STLe  \\\n",
       "0  101110  1011.10  1.228537e+07  15056.954289   \n",
       "1  101120  1011.20  1.364394e+08  70339.952869   \n",
       "2  101210  1012.10  7.019669e+06  12082.404482   \n",
       "3  101220  1012.20  7.485860e+06  12652.916695   \n",
       "4  101300  1013.00  2.784498e+07  28343.215220   \n",
       "\n",
       "                                            geometry  \n",
       "0  POLYGON ((6475581.002 1916939.627, 6475580.499...  \n",
       "1  POLYGON ((6471660.000 1919631.502, 6471661.499...  \n",
       "2  POLYGON ((6473070.498 1913983.375, 6472914.850...  \n",
       "3  POLYGON ((6477593.248 1914091.178, 6477595.001...  \n",
       "4  POLYGON ((6480645.620 1906746.726, 6480594.842...  "
      ]
     },
     "execution_count": 12,
     "metadata": {},
     "output_type": "execute_result"
    }
   ],
   "source": [
    "tracts = gpd.read_file('LA_CensusTracts/CENSUS_TRACTS_2000.shp')\n",
    "\n",
    "tracts.head()"
   ]
  },
  {
   "cell_type": "markdown",
   "metadata": {},
   "source": [
    "### Read in Zipped (.zip) shapefile\n",
    "\n",
    "If you know the file name and path within a zipped shapefile (set of files in a folder), you don't even have to unzip it before reading!"
   ]
  },
  {
   "cell_type": "code",
   "execution_count": 13,
   "metadata": {},
   "outputs": [
    {
     "data": {
      "text/html": [
       "<div>\n",
       "<style scoped>\n",
       "    .dataframe tbody tr th:only-of-type {\n",
       "        vertical-align: middle;\n",
       "    }\n",
       "\n",
       "    .dataframe tbody tr th {\n",
       "        vertical-align: top;\n",
       "    }\n",
       "\n",
       "    .dataframe thead th {\n",
       "        text-align: right;\n",
       "    }\n",
       "</style>\n",
       "<table border=\"1\" class=\"dataframe\">\n",
       "  <thead>\n",
       "    <tr style=\"text-align: right;\">\n",
       "      <th></th>\n",
       "      <th>CT00</th>\n",
       "      <th>LABEL</th>\n",
       "      <th>Shape_STAr</th>\n",
       "      <th>Shape_STLe</th>\n",
       "      <th>geometry</th>\n",
       "    </tr>\n",
       "  </thead>\n",
       "  <tbody>\n",
       "    <tr>\n",
       "      <th>0</th>\n",
       "      <td>101110</td>\n",
       "      <td>1011.10</td>\n",
       "      <td>1.228537e+07</td>\n",
       "      <td>15056.954289</td>\n",
       "      <td>POLYGON ((6475581.002 1916939.627, 6475580.499...</td>\n",
       "    </tr>\n",
       "    <tr>\n",
       "      <th>1</th>\n",
       "      <td>101120</td>\n",
       "      <td>1011.20</td>\n",
       "      <td>1.364394e+08</td>\n",
       "      <td>70339.952869</td>\n",
       "      <td>POLYGON ((6471660.000 1919631.502, 6471661.499...</td>\n",
       "    </tr>\n",
       "    <tr>\n",
       "      <th>2</th>\n",
       "      <td>101210</td>\n",
       "      <td>1012.10</td>\n",
       "      <td>7.019669e+06</td>\n",
       "      <td>12082.404482</td>\n",
       "      <td>POLYGON ((6473070.498 1913983.375, 6472914.850...</td>\n",
       "    </tr>\n",
       "    <tr>\n",
       "      <th>3</th>\n",
       "      <td>101220</td>\n",
       "      <td>1012.20</td>\n",
       "      <td>7.485860e+06</td>\n",
       "      <td>12652.916695</td>\n",
       "      <td>POLYGON ((6477593.248 1914091.178, 6477595.001...</td>\n",
       "    </tr>\n",
       "    <tr>\n",
       "      <th>4</th>\n",
       "      <td>101300</td>\n",
       "      <td>1013.00</td>\n",
       "      <td>2.784498e+07</td>\n",
       "      <td>28343.215220</td>\n",
       "      <td>POLYGON ((6480645.620 1906746.726, 6480594.842...</td>\n",
       "    </tr>\n",
       "  </tbody>\n",
       "</table>\n",
       "</div>"
      ],
      "text/plain": [
       "     CT00    LABEL    Shape_STAr    Shape_STLe  \\\n",
       "0  101110  1011.10  1.228537e+07  15056.954289   \n",
       "1  101120  1011.20  1.364394e+08  70339.952869   \n",
       "2  101210  1012.10  7.019669e+06  12082.404482   \n",
       "3  101220  1012.20  7.485860e+06  12652.916695   \n",
       "4  101300  1013.00  2.784498e+07  28343.215220   \n",
       "\n",
       "                                            geometry  \n",
       "0  POLYGON ((6475581.002 1916939.627, 6475580.499...  \n",
       "1  POLYGON ((6471660.000 1919631.502, 6471661.499...  \n",
       "2  POLYGON ((6473070.498 1913983.375, 6472914.850...  \n",
       "3  POLYGON ((6477593.248 1914091.178, 6477595.001...  \n",
       "4  POLYGON ((6480645.620 1906746.726, 6480594.842...  "
      ]
     },
     "execution_count": 13,
     "metadata": {},
     "output_type": "execute_result"
    }
   ],
   "source": [
    "tracts = gpd.read_file('zip://LA_CensusTracts.zip!/LA_CensusTracts/CENSUS_TRACTS_2000.shp')\n",
    "\n",
    "tracts.head()"
   ]
  },
  {
   "cell_type": "code",
   "execution_count": 34,
   "metadata": {},
   "outputs": [
    {
     "data": {
      "text/plain": [
       "{'proj': 'lcc',\n",
       " 'lat_0': 33.5,\n",
       " 'lon_0': -118,\n",
       " 'lat_1': 34.0333333333333,\n",
       " 'lat_2': 35.4666666666667,\n",
       " 'x_0': 2000000,\n",
       " 'y_0': 500000,\n",
       " 'datum': 'NAD83',\n",
       " 'units': 'us-ft',\n",
       " 'no_defs': True}"
      ]
     },
     "execution_count": 34,
     "metadata": {},
     "output_type": "execute_result"
    }
   ],
   "source": [
    "tracts.crs"
   ]
  },
  {
   "cell_type": "markdown",
   "metadata": {},
   "source": [
    "## Read family data\n",
    "\n",
    "This is a very small, attribute-randomized subset (rows and columns) of household data from [InfoUSA](https://www.infousa.com/). *It will be useless for research use, but works well for this example.*\n",
    "\n",
    "- Be sure to read 'familyid' as a string or initial zeroes will be lost!\n",
    "- Only reading in some of the columns for this operation"
   ]
  },
  {
   "cell_type": "code",
   "execution_count": 3,
   "metadata": {},
   "outputs": [
    {
     "data": {
      "text/html": [
       "<div>\n",
       "<style scoped>\n",
       "    .dataframe tbody tr th:only-of-type {\n",
       "        vertical-align: middle;\n",
       "    }\n",
       "\n",
       "    .dataframe tbody tr th {\n",
       "        vertical-align: top;\n",
       "    }\n",
       "\n",
       "    .dataframe thead th {\n",
       "        text-align: right;\n",
       "    }\n",
       "</style>\n",
       "<table border=\"1\" class=\"dataframe\">\n",
       "  <thead>\n",
       "    <tr style=\"text-align: right;\">\n",
       "      <th></th>\n",
       "      <th>familyid</th>\n",
       "      <th>latitude</th>\n",
       "      <th>longitude</th>\n",
       "    </tr>\n",
       "  </thead>\n",
       "  <tbody>\n",
       "    <tr>\n",
       "      <td>0</td>\n",
       "      <td>000106617324</td>\n",
       "      <td>34.13613</td>\n",
       "      <td>-118.14349</td>\n",
       "    </tr>\n",
       "    <tr>\n",
       "      <td>1</td>\n",
       "      <td>000106679098</td>\n",
       "      <td>33.84097</td>\n",
       "      <td>-118.06158</td>\n",
       "    </tr>\n",
       "    <tr>\n",
       "      <td>2</td>\n",
       "      <td>000106273271</td>\n",
       "      <td>34.69933</td>\n",
       "      <td>-118.13906</td>\n",
       "    </tr>\n",
       "    <tr>\n",
       "      <td>3</td>\n",
       "      <td>000106308511</td>\n",
       "      <td>33.79798</td>\n",
       "      <td>-118.11764</td>\n",
       "    </tr>\n",
       "    <tr>\n",
       "      <td>4</td>\n",
       "      <td>000106431883</td>\n",
       "      <td>34.40821</td>\n",
       "      <td>-118.44098</td>\n",
       "    </tr>\n",
       "  </tbody>\n",
       "</table>\n",
       "</div>"
      ],
      "text/plain": [
       "       familyid  latitude  longitude\n",
       "0  000106617324  34.13613 -118.14349\n",
       "1  000106679098  33.84097 -118.06158\n",
       "2  000106273271  34.69933 -118.13906\n",
       "3  000106308511  33.79798 -118.11764\n",
       "4  000106431883  34.40821 -118.44098"
      ]
     },
     "execution_count": 3,
     "metadata": {},
     "output_type": "execute_result"
    }
   ],
   "source": [
    "data_cols = ['familyid','longitude','latitude']\n",
    "eth = pd.read_csv('la_family_data.csv', sep=',', usecols=data_cols, dtype={'familyid': 'str'})\n",
    "\n",
    "eth.head()"
   ]
  },
  {
   "cell_type": "markdown",
   "metadata": {},
   "source": [
    "### Lat/Lon pairs need to be converted to a Point() data type\n",
    "\n",
    "We'll put these in a new column called `coordinates`"
   ]
  },
  {
   "cell_type": "code",
   "execution_count": 4,
   "metadata": {},
   "outputs": [
    {
     "data": {
      "text/html": [
       "<div>\n",
       "<style scoped>\n",
       "    .dataframe tbody tr th:only-of-type {\n",
       "        vertical-align: middle;\n",
       "    }\n",
       "\n",
       "    .dataframe tbody tr th {\n",
       "        vertical-align: top;\n",
       "    }\n",
       "\n",
       "    .dataframe thead th {\n",
       "        text-align: right;\n",
       "    }\n",
       "</style>\n",
       "<table border=\"1\" class=\"dataframe\">\n",
       "  <thead>\n",
       "    <tr style=\"text-align: right;\">\n",
       "      <th></th>\n",
       "      <th>familyid</th>\n",
       "      <th>latitude</th>\n",
       "      <th>longitude</th>\n",
       "      <th>coordinates</th>\n",
       "    </tr>\n",
       "  </thead>\n",
       "  <tbody>\n",
       "    <tr>\n",
       "      <td>0</td>\n",
       "      <td>000106617324</td>\n",
       "      <td>34.13613</td>\n",
       "      <td>-118.14349</td>\n",
       "      <td>POINT (-118.14349 34.13613)</td>\n",
       "    </tr>\n",
       "    <tr>\n",
       "      <td>1</td>\n",
       "      <td>000106679098</td>\n",
       "      <td>33.84097</td>\n",
       "      <td>-118.06158</td>\n",
       "      <td>POINT (-118.06158 33.84097)</td>\n",
       "    </tr>\n",
       "    <tr>\n",
       "      <td>2</td>\n",
       "      <td>000106273271</td>\n",
       "      <td>34.69933</td>\n",
       "      <td>-118.13906</td>\n",
       "      <td>POINT (-118.13906 34.69933)</td>\n",
       "    </tr>\n",
       "    <tr>\n",
       "      <td>3</td>\n",
       "      <td>000106308511</td>\n",
       "      <td>33.79798</td>\n",
       "      <td>-118.11764</td>\n",
       "      <td>POINT (-118.11764 33.79798)</td>\n",
       "    </tr>\n",
       "    <tr>\n",
       "      <td>4</td>\n",
       "      <td>000106431883</td>\n",
       "      <td>34.40821</td>\n",
       "      <td>-118.44098</td>\n",
       "      <td>POINT (-118.44098 34.40821)</td>\n",
       "    </tr>\n",
       "  </tbody>\n",
       "</table>\n",
       "</div>"
      ],
      "text/plain": [
       "       familyid  latitude  longitude                  coordinates\n",
       "0  000106617324  34.13613 -118.14349  POINT (-118.14349 34.13613)\n",
       "1  000106679098  33.84097 -118.06158  POINT (-118.06158 33.84097)\n",
       "2  000106273271  34.69933 -118.13906  POINT (-118.13906 34.69933)\n",
       "3  000106308511  33.79798 -118.11764  POINT (-118.11764 33.79798)\n",
       "4  000106431883  34.40821 -118.44098  POINT (-118.44098 34.40821)"
      ]
     },
     "execution_count": 4,
     "metadata": {},
     "output_type": "execute_result"
    }
   ],
   "source": [
    "eth['coordinates'] = list(zip(eth['longitude'], eth['latitude']))\n",
    "eth['coordinates'] = eth['coordinates'].apply(Point)\n",
    "\n",
    "eth.head()"
   ]
  },
  {
   "cell_type": "markdown",
   "metadata": {},
   "source": [
    "### Convert to GeoDataFrame, specifying which column contains the geometry\n",
    "\n",
    "- Have to set the Coordinate Reference System (CRS) initialy to say it's been hand-coded lat/lon, `epsg:4326`\n",
    "- Then reproject to same CRS as tracts"
   ]
  },
  {
   "cell_type": "code",
   "execution_count": 5,
   "metadata": {},
   "outputs": [],
   "source": [
    "gdf = gpd.GeoDataFrame(eth, geometry='coordinates')\n",
    "gdf.crs = {'init': 'epsg:4326'}\n",
    "gdf = gdf.to_crs(tracts.crs)"
   ]
  },
  {
   "cell_type": "markdown",
   "metadata": {},
   "source": [
    "### Do the spatial join\n",
    "\n",
    "- We'll do a \"left\" join so we don't lose any points if some of our families don't happen to fall within a census tract – we'll just get a NULL (None) in the CT100 field.\n",
    "- 'within' just slightly faster operation than 'intersects' or 'contains' – For points in a polygon it shouldn't matter which operation you use"
   ]
  },
  {
   "cell_type": "code",
   "execution_count": 6,
   "metadata": {},
   "outputs": [
    {
     "data": {
      "text/html": [
       "<div>\n",
       "<style scoped>\n",
       "    .dataframe tbody tr th:only-of-type {\n",
       "        vertical-align: middle;\n",
       "    }\n",
       "\n",
       "    .dataframe tbody tr th {\n",
       "        vertical-align: top;\n",
       "    }\n",
       "\n",
       "    .dataframe thead th {\n",
       "        text-align: right;\n",
       "    }\n",
       "</style>\n",
       "<table border=\"1\" class=\"dataframe\">\n",
       "  <thead>\n",
       "    <tr style=\"text-align: right;\">\n",
       "      <th></th>\n",
       "      <th>familyid</th>\n",
       "      <th>CT00</th>\n",
       "    </tr>\n",
       "  </thead>\n",
       "  <tbody>\n",
       "    <tr>\n",
       "      <td>0</td>\n",
       "      <td>000106617324</td>\n",
       "      <td>463600</td>\n",
       "    </tr>\n",
       "    <tr>\n",
       "      <td>1</td>\n",
       "      <td>000106679098</td>\n",
       "      <td>555103</td>\n",
       "    </tr>\n",
       "    <tr>\n",
       "      <td>2</td>\n",
       "      <td>000106273271</td>\n",
       "      <td>900806</td>\n",
       "    </tr>\n",
       "    <tr>\n",
       "      <td>3</td>\n",
       "      <td>000106308511</td>\n",
       "      <td>574300</td>\n",
       "    </tr>\n",
       "    <tr>\n",
       "      <td>4</td>\n",
       "      <td>000106431883</td>\n",
       "      <td>920043</td>\n",
       "    </tr>\n",
       "  </tbody>\n",
       "</table>\n",
       "</div>"
      ],
      "text/plain": [
       "       familyid    CT00\n",
       "0  000106617324  463600\n",
       "1  000106679098  555103\n",
       "2  000106273271  900806\n",
       "3  000106308511  574300\n",
       "4  000106431883  920043"
      ]
     },
     "execution_count": 6,
     "metadata": {},
     "output_type": "execute_result"
    }
   ],
   "source": [
    "eth_tracts = gpd.sjoin(gdf, tracts, how=\"left\", op='within')\n",
    "\n",
    "eth_tracts[['familyid','CT00']].head()"
   ]
  },
  {
   "cell_type": "markdown",
   "metadata": {},
   "source": [
    "### Saving only the two fields that we need to output CSV"
   ]
  },
  {
   "cell_type": "code",
   "execution_count": 7,
   "metadata": {},
   "outputs": [],
   "source": [
    "eth_tracts[['familyid','CT00']].to_csv('la_family_tracts.csv', index=False, encoding='utf-8')"
   ]
  },
  {
   "cell_type": "markdown",
   "metadata": {},
   "source": [
    "### Alternatively save data to shapefile for easier mapping\n",
    "\n",
    "I like to put shapefiles in their own directory since a \"shapefile\" really consists of multiple files, and this makes it easier to keep them together.\n",
    "\n",
    "- *Creating the directory will give an error if it already exists, so I check whether it's already been created first.*\n",
    "- *This also happens to be an easy way to create a DBF file of your data!*"
   ]
  },
  {
   "cell_type": "code",
   "execution_count": 8,
   "metadata": {},
   "outputs": [],
   "source": [
    "if not os.path.exists('la_family_SHP'):\n",
    "\tos.mkdir('la_family_SHP')\n",
    "    \n",
    "eth_tracts[['familyid', 'coordinates', 'CT00']].to_file('la_family_SHP/la_family_points.shp')"
   ]
  },
  {
   "cell_type": "markdown",
   "metadata": {},
   "source": [
    "---\n",
    "\n",
    "## Geo shape centroid\n",
    "\n",
    "There is a .centroid property of any geometry shapely (GeoPandas) column\n",
    "https://gis.stackexchange.com/questions/166820/geopandas-return-lat-and-long-of-a-centroid-point\n",
    "\n",
    "`tracts[‘geometry’].centroid`\n",
    "\n",
    "and each of those has a `.x` and `.y` attribute (centroid is a `Point()`)"
   ]
  },
  {
   "cell_type": "code",
   "execution_count": 39,
   "metadata": {},
   "outputs": [],
   "source": [
    "geoms = tracts.loc[:10,['CT00','geometry']].copy()"
   ]
  },
  {
   "cell_type": "code",
   "execution_count": 40,
   "metadata": {},
   "outputs": [
    {
     "data": {
      "text/plain": [
       "{'proj': 'lcc',\n",
       " 'lat_0': 33.5,\n",
       " 'lon_0': -118,\n",
       " 'lat_1': 34.0333333333333,\n",
       " 'lat_2': 35.4666666666667,\n",
       " 'x_0': 2000000,\n",
       " 'y_0': 500000,\n",
       " 'datum': 'NAD83',\n",
       " 'units': 'us-ft',\n",
       " 'no_defs': True}"
      ]
     },
     "execution_count": 40,
     "metadata": {},
     "output_type": "execute_result"
    }
   ],
   "source": [
    "geoms.crs"
   ]
  },
  {
   "cell_type": "code",
   "execution_count": 30,
   "metadata": {},
   "outputs": [
    {
     "data": {
      "text/plain": [
       "0     POINT (6473138.216 1916941.393)\n",
       "1     POINT (6479969.894 1921132.951)\n",
       "2     POINT (6473815.754 1914573.486)\n",
       "3     POINT (6476559.474 1914071.099)\n",
       "4     POINT (6479779.632 1913100.254)\n",
       "5     POINT (6472849.530 1910858.903)\n",
       "6     POINT (6464086.524 1907684.472)\n",
       "7     POINT (6456608.263 1901932.035)\n",
       "8     POINT (6469673.720 1924292.753)\n",
       "9     POINT (6468792.850 1918379.697)\n",
       "10    POINT (6460368.124 1922514.284)\n",
       "dtype: geometry"
      ]
     },
     "execution_count": 30,
     "metadata": {},
     "output_type": "execute_result"
    }
   ],
   "source": [
    "geoms['geometry'].centroid"
   ]
  },
  {
   "cell_type": "code",
   "execution_count": 32,
   "metadata": {},
   "outputs": [
    {
     "data": {
      "text/plain": [
       "0     6.473138e+06\n",
       "1     6.479970e+06\n",
       "2     6.473816e+06\n",
       "3     6.476559e+06\n",
       "4     6.479780e+06\n",
       "5     6.472850e+06\n",
       "6     6.464087e+06\n",
       "7     6.456608e+06\n",
       "8     6.469674e+06\n",
       "9     6.468793e+06\n",
       "10    6.460368e+06\n",
       "dtype: float64"
      ]
     },
     "execution_count": 32,
     "metadata": {},
     "output_type": "execute_result"
    }
   ],
   "source": [
    "geoms['geometry'].centroid.x"
   ]
  },
  {
   "cell_type": "markdown",
   "metadata": {},
   "source": [
    "#### Get centroids in lat/lon"
   ]
  },
  {
   "cell_type": "code",
   "execution_count": 44,
   "metadata": {},
   "outputs": [
    {
     "data": {
      "text/plain": [
       "0     POINT (-118.29298 34.25948)\n",
       "1     POINT (-118.27041 34.27105)\n",
       "2     POINT (-118.29072 34.25298)\n",
       "3     POINT (-118.28163 34.25162)\n",
       "4     POINT (-118.27097 34.24898)\n",
       "5     POINT (-118.29388 34.24277)\n",
       "6     POINT (-118.32284 34.23397)\n",
       "7     POINT (-118.34752 34.21809)\n",
       "8     POINT (-118.30452 34.27965)\n",
       "9     POINT (-118.30738 34.26340)\n",
       "10    POINT (-118.33531 34.27468)\n",
       "dtype: geometry"
      ]
     },
     "execution_count": 44,
     "metadata": {},
     "output_type": "execute_result"
    }
   ],
   "source": [
    "geoms.to_crs(crs='epsg:4326', inplace=True)\n",
    "geoms['geometry'].centroid"
   ]
  }
 ],
 "metadata": {
  "kernelspec": {
   "display_name": "Python 3",
   "language": "python",
   "name": "python3"
  },
  "language_info": {
   "codemirror_mode": {
    "name": "ipython",
    "version": 3
   },
   "file_extension": ".py",
   "mimetype": "text/x-python",
   "name": "python",
   "nbconvert_exporter": "python",
   "pygments_lexer": "ipython3",
   "version": "3.8.1"
  }
 },
 "nbformat": 4,
 "nbformat_minor": 4
}
