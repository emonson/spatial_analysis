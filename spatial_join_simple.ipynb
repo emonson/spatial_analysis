{
 "cells": [
  {
   "cell_type": "code",
   "execution_count": 1,
   "metadata": {},
   "outputs": [],
   "source": [
    "import geopandas as geo\n",
    "import pandas as pd\n",
    "from shapely.geometry import Point\n",
    "import os"
   ]
  },
  {
   "cell_type": "markdown",
   "metadata": {},
   "source": [
    "### Read in census tracts shapefile"
   ]
  },
  {
   "cell_type": "code",
   "execution_count": 2,
   "metadata": {},
   "outputs": [
    {
     "data": {
      "text/html": [
       "<div>\n",
       "<style scoped>\n",
       "    .dataframe tbody tr th:only-of-type {\n",
       "        vertical-align: middle;\n",
       "    }\n",
       "\n",
       "    .dataframe tbody tr th {\n",
       "        vertical-align: top;\n",
       "    }\n",
       "\n",
       "    .dataframe thead th {\n",
       "        text-align: right;\n",
       "    }\n",
       "</style>\n",
       "<table border=\"1\" class=\"dataframe\">\n",
       "  <thead>\n",
       "    <tr style=\"text-align: right;\">\n",
       "      <th></th>\n",
       "      <th>CT00</th>\n",
       "      <th>LABEL</th>\n",
       "      <th>Shape_STAr</th>\n",
       "      <th>Shape_STLe</th>\n",
       "      <th>geometry</th>\n",
       "    </tr>\n",
       "  </thead>\n",
       "  <tbody>\n",
       "    <tr>\n",
       "      <th>0</th>\n",
       "      <td>101110</td>\n",
       "      <td>1011.10</td>\n",
       "      <td>1.228537e+07</td>\n",
       "      <td>15056.954289</td>\n",
       "      <td>POLYGON ((6475581.002129614 1916939.626698852,...</td>\n",
       "    </tr>\n",
       "    <tr>\n",
       "      <th>1</th>\n",
       "      <td>101120</td>\n",
       "      <td>1011.20</td>\n",
       "      <td>1.364394e+08</td>\n",
       "      <td>70339.952869</td>\n",
       "      <td>POLYGON ((6471659.999801025 1919631.501564443,...</td>\n",
       "    </tr>\n",
       "    <tr>\n",
       "      <th>2</th>\n",
       "      <td>101210</td>\n",
       "      <td>1012.10</td>\n",
       "      <td>7.019669e+06</td>\n",
       "      <td>12082.404482</td>\n",
       "      <td>POLYGON ((6473070.498292357 1913983.375393525,...</td>\n",
       "    </tr>\n",
       "    <tr>\n",
       "      <th>3</th>\n",
       "      <td>101220</td>\n",
       "      <td>1012.20</td>\n",
       "      <td>7.485860e+06</td>\n",
       "      <td>12652.916695</td>\n",
       "      <td>POLYGON ((6477593.248105109 1914091.177999437,...</td>\n",
       "    </tr>\n",
       "    <tr>\n",
       "      <th>4</th>\n",
       "      <td>101300</td>\n",
       "      <td>1013.00</td>\n",
       "      <td>2.784498e+07</td>\n",
       "      <td>28343.215220</td>\n",
       "      <td>POLYGON ((6480645.62028119 1906746.72648102, 6...</td>\n",
       "    </tr>\n",
       "  </tbody>\n",
       "</table>\n",
       "</div>"
      ],
      "text/plain": [
       "     CT00    LABEL    Shape_STAr    Shape_STLe  \\\n",
       "0  101110  1011.10  1.228537e+07  15056.954289   \n",
       "1  101120  1011.20  1.364394e+08  70339.952869   \n",
       "2  101210  1012.10  7.019669e+06  12082.404482   \n",
       "3  101220  1012.20  7.485860e+06  12652.916695   \n",
       "4  101300  1013.00  2.784498e+07  28343.215220   \n",
       "\n",
       "                                            geometry  \n",
       "0  POLYGON ((6475581.002129614 1916939.626698852,...  \n",
       "1  POLYGON ((6471659.999801025 1919631.501564443,...  \n",
       "2  POLYGON ((6473070.498292357 1913983.375393525,...  \n",
       "3  POLYGON ((6477593.248105109 1914091.177999437,...  \n",
       "4  POLYGON ((6480645.62028119 1906746.72648102, 6...  "
      ]
     },
     "execution_count": 2,
     "metadata": {},
     "output_type": "execute_result"
    }
   ],
   "source": [
    "tracts = geo.read_file('LA_CensusTracts/CENSUS_TRACTS_2000.shp')\n",
    "\n",
    "tracts.head()"
   ]
  },
  {
   "cell_type": "markdown",
   "metadata": {},
   "source": [
    "### Read family data\n",
    "\n",
    "- Be sure to read 'familyid' as a string or initial zeroes will be lost!\n",
    "- Only reading in some of the columns for this operation"
   ]
  },
  {
   "cell_type": "code",
   "execution_count": 3,
   "metadata": {},
   "outputs": [
    {
     "data": {
      "text/html": [
       "<div>\n",
       "<style scoped>\n",
       "    .dataframe tbody tr th:only-of-type {\n",
       "        vertical-align: middle;\n",
       "    }\n",
       "\n",
       "    .dataframe tbody tr th {\n",
       "        vertical-align: top;\n",
       "    }\n",
       "\n",
       "    .dataframe thead th {\n",
       "        text-align: right;\n",
       "    }\n",
       "</style>\n",
       "<table border=\"1\" class=\"dataframe\">\n",
       "  <thead>\n",
       "    <tr style=\"text-align: right;\">\n",
       "      <th></th>\n",
       "      <th>familyid</th>\n",
       "      <th>latitude</th>\n",
       "      <th>longitude</th>\n",
       "    </tr>\n",
       "  </thead>\n",
       "  <tbody>\n",
       "    <tr>\n",
       "      <th>0</th>\n",
       "      <td>000000064097</td>\n",
       "      <td>34.13613</td>\n",
       "      <td>-118.14349</td>\n",
       "    </tr>\n",
       "    <tr>\n",
       "      <th>1</th>\n",
       "      <td>000000191203</td>\n",
       "      <td>33.84097</td>\n",
       "      <td>-118.06158</td>\n",
       "    </tr>\n",
       "    <tr>\n",
       "      <th>2</th>\n",
       "      <td>000000281697</td>\n",
       "      <td>34.69933</td>\n",
       "      <td>-118.13906</td>\n",
       "    </tr>\n",
       "    <tr>\n",
       "      <th>3</th>\n",
       "      <td>000000374686</td>\n",
       "      <td>33.79798</td>\n",
       "      <td>-118.11764</td>\n",
       "    </tr>\n",
       "    <tr>\n",
       "      <th>4</th>\n",
       "      <td>000000440577</td>\n",
       "      <td>34.40821</td>\n",
       "      <td>-118.44098</td>\n",
       "    </tr>\n",
       "  </tbody>\n",
       "</table>\n",
       "</div>"
      ],
      "text/plain": [
       "       familyid  latitude  longitude\n",
       "0  000000064097  34.13613 -118.14349\n",
       "1  000000191203  33.84097 -118.06158\n",
       "2  000000281697  34.69933 -118.13906\n",
       "3  000000374686  33.79798 -118.11764\n",
       "4  000000440577  34.40821 -118.44098"
      ]
     },
     "execution_count": 3,
     "metadata": {},
     "output_type": "execute_result"
    }
   ],
   "source": [
    "data_cols = ['familyid','longitude','latitude']\n",
    "eth = pd.read_csv('la_family_data.csv', sep=',', usecols=data_cols, dtype={'familyid': 'str'})\n",
    "\n",
    "eth.head()"
   ]
  },
  {
   "cell_type": "markdown",
   "metadata": {},
   "source": [
    "### Lat/Lon pairs need to be converted to a Point() data type\n",
    "\n",
    "We'll put these in a new column called `coordinates`"
   ]
  },
  {
   "cell_type": "code",
   "execution_count": 4,
   "metadata": {},
   "outputs": [
    {
     "data": {
      "text/html": [
       "<div>\n",
       "<style scoped>\n",
       "    .dataframe tbody tr th:only-of-type {\n",
       "        vertical-align: middle;\n",
       "    }\n",
       "\n",
       "    .dataframe tbody tr th {\n",
       "        vertical-align: top;\n",
       "    }\n",
       "\n",
       "    .dataframe thead th {\n",
       "        text-align: right;\n",
       "    }\n",
       "</style>\n",
       "<table border=\"1\" class=\"dataframe\">\n",
       "  <thead>\n",
       "    <tr style=\"text-align: right;\">\n",
       "      <th></th>\n",
       "      <th>familyid</th>\n",
       "      <th>latitude</th>\n",
       "      <th>longitude</th>\n",
       "      <th>coordinates</th>\n",
       "    </tr>\n",
       "  </thead>\n",
       "  <tbody>\n",
       "    <tr>\n",
       "      <th>0</th>\n",
       "      <td>000000064097</td>\n",
       "      <td>34.13613</td>\n",
       "      <td>-118.14349</td>\n",
       "      <td>POINT (-118.14349 34.13613)</td>\n",
       "    </tr>\n",
       "    <tr>\n",
       "      <th>1</th>\n",
       "      <td>000000191203</td>\n",
       "      <td>33.84097</td>\n",
       "      <td>-118.06158</td>\n",
       "      <td>POINT (-118.06158 33.84097)</td>\n",
       "    </tr>\n",
       "    <tr>\n",
       "      <th>2</th>\n",
       "      <td>000000281697</td>\n",
       "      <td>34.69933</td>\n",
       "      <td>-118.13906</td>\n",
       "      <td>POINT (-118.13906 34.69933)</td>\n",
       "    </tr>\n",
       "    <tr>\n",
       "      <th>3</th>\n",
       "      <td>000000374686</td>\n",
       "      <td>33.79798</td>\n",
       "      <td>-118.11764</td>\n",
       "      <td>POINT (-118.11764 33.79798)</td>\n",
       "    </tr>\n",
       "    <tr>\n",
       "      <th>4</th>\n",
       "      <td>000000440577</td>\n",
       "      <td>34.40821</td>\n",
       "      <td>-118.44098</td>\n",
       "      <td>POINT (-118.44098 34.40821)</td>\n",
       "    </tr>\n",
       "  </tbody>\n",
       "</table>\n",
       "</div>"
      ],
      "text/plain": [
       "       familyid  latitude  longitude                  coordinates\n",
       "0  000000064097  34.13613 -118.14349  POINT (-118.14349 34.13613)\n",
       "1  000000191203  33.84097 -118.06158  POINT (-118.06158 33.84097)\n",
       "2  000000281697  34.69933 -118.13906  POINT (-118.13906 34.69933)\n",
       "3  000000374686  33.79798 -118.11764  POINT (-118.11764 33.79798)\n",
       "4  000000440577  34.40821 -118.44098  POINT (-118.44098 34.40821)"
      ]
     },
     "execution_count": 4,
     "metadata": {},
     "output_type": "execute_result"
    }
   ],
   "source": [
    "eth['coordinates'] = list(zip(eth['longitude'], eth['latitude']))\n",
    "eth['coordinates'] = eth['coordinates'].apply(Point)\n",
    "\n",
    "eth.head()"
   ]
  },
  {
   "cell_type": "markdown",
   "metadata": {},
   "source": [
    "### Convert to GeoDataFrame, specifying which column contains the geometry\n",
    "\n",
    "- Have to set the Coordinate Reference System (CRS) initialy to say it's been hand-coded lat/lon, `epsg:4326`\n",
    "- Then reproject to same CRS as tracts"
   ]
  },
  {
   "cell_type": "code",
   "execution_count": 5,
   "metadata": {},
   "outputs": [],
   "source": [
    "gdf = geo.GeoDataFrame(eth, geometry='coordinates')\n",
    "gdf.crs = {'init': 'epsg:4326'}\n",
    "gdf = gdf.to_crs(tracts.crs)"
   ]
  },
  {
   "cell_type": "markdown",
   "metadata": {},
   "source": [
    "### Do the spatial join\n",
    "\n",
    "- We'll do a \"left\" join so we don't lose any points if some of our families don't happen to fall within a census tract – we'll just get a NULL (None) in the CT100 field.\n",
    "- 'within' just slightly faster operation than 'intersects' or 'contains' – For points in a polygon it shouldn't matter which operation you use"
   ]
  },
  {
   "cell_type": "code",
   "execution_count": 6,
   "metadata": {},
   "outputs": [
    {
     "data": {
      "text/html": [
       "<div>\n",
       "<style scoped>\n",
       "    .dataframe tbody tr th:only-of-type {\n",
       "        vertical-align: middle;\n",
       "    }\n",
       "\n",
       "    .dataframe tbody tr th {\n",
       "        vertical-align: top;\n",
       "    }\n",
       "\n",
       "    .dataframe thead th {\n",
       "        text-align: right;\n",
       "    }\n",
       "</style>\n",
       "<table border=\"1\" class=\"dataframe\">\n",
       "  <thead>\n",
       "    <tr style=\"text-align: right;\">\n",
       "      <th></th>\n",
       "      <th>familyid</th>\n",
       "      <th>CT00</th>\n",
       "    </tr>\n",
       "  </thead>\n",
       "  <tbody>\n",
       "    <tr>\n",
       "      <th>0</th>\n",
       "      <td>000000064097</td>\n",
       "      <td>463600</td>\n",
       "    </tr>\n",
       "    <tr>\n",
       "      <th>1</th>\n",
       "      <td>000000191203</td>\n",
       "      <td>555103</td>\n",
       "    </tr>\n",
       "    <tr>\n",
       "      <th>2</th>\n",
       "      <td>000000281697</td>\n",
       "      <td>900806</td>\n",
       "    </tr>\n",
       "    <tr>\n",
       "      <th>3</th>\n",
       "      <td>000000374686</td>\n",
       "      <td>574300</td>\n",
       "    </tr>\n",
       "    <tr>\n",
       "      <th>4</th>\n",
       "      <td>000000440577</td>\n",
       "      <td>920043</td>\n",
       "    </tr>\n",
       "  </tbody>\n",
       "</table>\n",
       "</div>"
      ],
      "text/plain": [
       "       familyid    CT00\n",
       "0  000000064097  463600\n",
       "1  000000191203  555103\n",
       "2  000000281697  900806\n",
       "3  000000374686  574300\n",
       "4  000000440577  920043"
      ]
     },
     "execution_count": 6,
     "metadata": {},
     "output_type": "execute_result"
    }
   ],
   "source": [
    "eth_tracts = geo.sjoin(gdf, tracts, how=\"left\", op='within')\n",
    "\n",
    "eth_tracts[['familyid','CT00']].head()"
   ]
  },
  {
   "cell_type": "markdown",
   "metadata": {},
   "source": [
    "### Saving only the two fields that we need to output CSV"
   ]
  },
  {
   "cell_type": "code",
   "execution_count": 7,
   "metadata": {},
   "outputs": [],
   "source": [
    "eth_tracts[['familyid','CT00']].to_csv('la_family_tracts.csv', index=False, encoding='utf-8')"
   ]
  },
  {
   "cell_type": "markdown",
   "metadata": {},
   "source": [
    "### Alternatively save data to shapefile for easier mapping\n",
    "\n",
    "I like to put shapefiles in their own directory since a \"shapefile\" really consists of multiple files, and this makes it easier to keep them together.\n",
    "\n",
    "- *Creating the directory will give an error if it already exists, so I check whether it's already been created first.*\n",
    "- *This also happens to be an easy way to create a DBF file of your data!*"
   ]
  },
  {
   "cell_type": "code",
   "execution_count": 8,
   "metadata": {},
   "outputs": [],
   "source": [
    "if not os.path.exists('la_family_SHP'):\n",
    "\tos.mkdir('la_family_SHP')\n",
    "    \n",
    "eth_tracts[['familyid', 'coordinates', 'CT00']].to_file('la_family_SHP/la_family_points.shp')"
   ]
  }
 ],
 "metadata": {
  "kernelspec": {
   "display_name": "Python 3",
   "language": "python",
   "name": "python3"
  },
  "language_info": {
   "codemirror_mode": {
    "name": "ipython",
    "version": 3
   },
   "file_extension": ".py",
   "mimetype": "text/x-python",
   "name": "python",
   "nbconvert_exporter": "python",
   "pygments_lexer": "ipython3",
   "version": "3.6.7"
  }
 },
 "nbformat": 4,
 "nbformat_minor": 2
}
