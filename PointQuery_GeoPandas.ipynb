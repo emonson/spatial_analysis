{
 "cells": [
  {
   "cell_type": "markdown",
   "metadata": {},
   "source": [
    "# Sample raster values at shapefile points\n",
    "\n",
    "#### In Anaconda Prompt\n",
    "```\n",
    "conda create --name raster -c conda-forge rasterstats geopandas jupyterlab\n",
    "conda activate raster\n",
    "jupyter lab\n",
    "```"
   ]
  },
  {
   "cell_type": "code",
   "execution_count": 1,
   "metadata": {},
   "outputs": [],
   "source": [
    "from rasterstats import zonal_stats, point_query\n",
    "import rasterio\n",
    "from shapely.geometry import Point\n",
    "import geopandas as gpd"
   ]
  },
  {
   "cell_type": "markdown",
   "metadata": {},
   "source": [
    "## Reading zipped ASCII file\n",
    "\n",
    "https://rasterio.readthedocs.io/en/stable/topics/datasets.html"
   ]
  },
  {
   "cell_type": "code",
   "execution_count": 3,
   "metadata": {},
   "outputs": [
    {
     "data": {
      "text/plain": [
       "{'driver': 'AAIGrid',\n",
       " 'dtype': 'float32',\n",
       " 'nodata': -999.9000244140625,\n",
       " 'width': 9300,\n",
       " 'height': 4550,\n",
       " 'count': 1,\n",
       " 'crs': CRS.from_epsg(4326),\n",
       " 'transform': Affine(0.01, 0.0, -138.0,\n",
       "        0.0, -0.01, 68.0)}"
      ]
     },
     "execution_count": 3,
     "metadata": {},
     "output_type": "execute_result"
    }
   ],
   "source": [
    "pm25 = rasterio.open('zip://GWRwSPEC_PM25_NA_200001_200012-RH35-NoNegs.asc.zip!/GWRwSPEC_PM25_NA_200001_200012-RH35-NoNegs.asc')\n",
    "pm25.meta"
   ]
  },
  {
   "cell_type": "markdown",
   "metadata": {},
   "source": [
    "## Reading NetCDF file"
   ]
  },
  {
   "cell_type": "code",
   "execution_count": 3,
   "metadata": {},
   "outputs": [
    {
     "data": {
      "text/plain": [
       "{'driver': 'netCDF',\n",
       " 'dtype': 'float32',\n",
       " 'nodata': 9.969209968386869e+36,\n",
       " 'width': 9300,\n",
       " 'height': 4550,\n",
       " 'count': 1,\n",
       " 'crs': None,\n",
       " 'transform': Affine(0.009999999360046485, 0.0, -137.99999511686752,\n",
       "        0.0, -0.010000000788264548, 68.00000274697616)}"
      ]
     },
     "execution_count": 3,
     "metadata": {},
     "output_type": "execute_result"
    }
   ],
   "source": [
    "pm25_nc = rasterio.open('GWRwSPEC_PM25_NA_200001_200012-RH35.nc')\n",
    "pm25_nc.meta"
   ]
  },
  {
   "cell_type": "code",
   "execution_count": 4,
   "metadata": {},
   "outputs": [
    {
     "data": {
      "text/plain": [
       "rasterio.crs.CRS"
      ]
     },
     "execution_count": 4,
     "metadata": {},
     "output_type": "execute_result"
    }
   ],
   "source": [
    "pm25.crs.__class__"
   ]
  },
  {
   "cell_type": "markdown",
   "metadata": {},
   "source": [
    "## Reading shapefile into GeoDataFrame\n",
    "\n",
    "Takes just slightly longer reading from a zipped shapefile (14 sec vs 13 on desktop Mac)"
   ]
  },
  {
   "cell_type": "code",
   "execution_count": 2,
   "metadata": {},
   "outputs": [],
   "source": [
    "df = gpd.read_file('zip://popctr_blkgrp2010.zip')"
   ]
  },
  {
   "cell_type": "raw",
   "metadata": {},
   "source": [
    "df = gpd.read_file('popctr_blkgrp2010/popctr_blkgrp2010.shp')"
   ]
  },
  {
   "cell_type": "code",
   "execution_count": 3,
   "metadata": {},
   "outputs": [
    {
     "data": {
      "text/plain": [
       "(220334, 9)"
      ]
     },
     "execution_count": 3,
     "metadata": {},
     "output_type": "execute_result"
    }
   ],
   "source": [
    "df.shape"
   ]
  },
  {
   "cell_type": "code",
   "execution_count": 6,
   "metadata": {},
   "outputs": [
    {
     "data": {
      "text/html": [
       "<div>\n",
       "<style scoped>\n",
       "    .dataframe tbody tr th:only-of-type {\n",
       "        vertical-align: middle;\n",
       "    }\n",
       "\n",
       "    .dataframe tbody tr th {\n",
       "        vertical-align: top;\n",
       "    }\n",
       "\n",
       "    .dataframe thead th {\n",
       "        text-align: right;\n",
       "    }\n",
       "</style>\n",
       "<table border=\"1\" class=\"dataframe\">\n",
       "  <thead>\n",
       "    <tr style=\"text-align: right;\">\n",
       "      <th></th>\n",
       "      <th>FIPS</th>\n",
       "      <th>STATE</th>\n",
       "      <th>COUNTY</th>\n",
       "      <th>TRACT</th>\n",
       "      <th>BLKGRP</th>\n",
       "      <th>POPULATION</th>\n",
       "      <th>LATITUDE</th>\n",
       "      <th>LONGITUDE</th>\n",
       "      <th>geometry</th>\n",
       "    </tr>\n",
       "  </thead>\n",
       "  <tbody>\n",
       "    <tr>\n",
       "      <th>0</th>\n",
       "      <td>010010201001</td>\n",
       "      <td>01</td>\n",
       "      <td>001</td>\n",
       "      <td>020100</td>\n",
       "      <td>1</td>\n",
       "      <td>698</td>\n",
       "      <td>32.464812</td>\n",
       "      <td>-86.486527</td>\n",
       "      <td>POINT (-86.48653 32.46481)</td>\n",
       "    </tr>\n",
       "    <tr>\n",
       "      <th>1</th>\n",
       "      <td>010010201002</td>\n",
       "      <td>01</td>\n",
       "      <td>001</td>\n",
       "      <td>020100</td>\n",
       "      <td>2</td>\n",
       "      <td>1214</td>\n",
       "      <td>32.482391</td>\n",
       "      <td>-86.486912</td>\n",
       "      <td>POINT (-86.48691 32.48239)</td>\n",
       "    </tr>\n",
       "    <tr>\n",
       "      <th>2</th>\n",
       "      <td>010010202001</td>\n",
       "      <td>01</td>\n",
       "      <td>001</td>\n",
       "      <td>020200</td>\n",
       "      <td>1</td>\n",
       "      <td>1003</td>\n",
       "      <td>32.478035</td>\n",
       "      <td>-86.474786</td>\n",
       "      <td>POINT (-86.47479 32.47803)</td>\n",
       "    </tr>\n",
       "    <tr>\n",
       "      <th>3</th>\n",
       "      <td>010010202002</td>\n",
       "      <td>01</td>\n",
       "      <td>001</td>\n",
       "      <td>020200</td>\n",
       "      <td>2</td>\n",
       "      <td>1167</td>\n",
       "      <td>32.466372</td>\n",
       "      <td>-86.471060</td>\n",
       "      <td>POINT (-86.47106 32.46637)</td>\n",
       "    </tr>\n",
       "    <tr>\n",
       "      <th>4</th>\n",
       "      <td>010010203001</td>\n",
       "      <td>01</td>\n",
       "      <td>001</td>\n",
       "      <td>020300</td>\n",
       "      <td>1</td>\n",
       "      <td>2549</td>\n",
       "      <td>32.476828</td>\n",
       "      <td>-86.460326</td>\n",
       "      <td>POINT (-86.46033 32.47683)</td>\n",
       "    </tr>\n",
       "  </tbody>\n",
       "</table>\n",
       "</div>"
      ],
      "text/plain": [
       "           FIPS STATE COUNTY   TRACT BLKGRP  POPULATION   LATITUDE  LONGITUDE  \\\n",
       "0  010010201001    01    001  020100      1         698  32.464812 -86.486527   \n",
       "1  010010201002    01    001  020100      2        1214  32.482391 -86.486912   \n",
       "2  010010202001    01    001  020200      1        1003  32.478035 -86.474786   \n",
       "3  010010202002    01    001  020200      2        1167  32.466372 -86.471060   \n",
       "4  010010203001    01    001  020300      1        2549  32.476828 -86.460326   \n",
       "\n",
       "                     geometry  \n",
       "0  POINT (-86.48653 32.46481)  \n",
       "1  POINT (-86.48691 32.48239)  \n",
       "2  POINT (-86.47479 32.47803)  \n",
       "3  POINT (-86.47106 32.46637)  \n",
       "4  POINT (-86.46033 32.47683)  "
      ]
     },
     "execution_count": 6,
     "metadata": {},
     "output_type": "execute_result"
    }
   ],
   "source": [
    "df.head()"
   ]
  },
  {
   "cell_type": "markdown",
   "metadata": {},
   "source": [
    "#### CRS (coordinate reference system)\n",
    "\n",
    "- epsg:4326 - WGS84 (World Geodetic System 1984) – lat/lon (hand-coded)\n",
    "- epsg:4269 - NAD83 (North American Datum 1983)"
   ]
  },
  {
   "cell_type": "code",
   "execution_count": 7,
   "metadata": {},
   "outputs": [
    {
     "data": {
      "text/plain": [
       "{'init': 'epsg:4269'}"
      ]
     },
     "execution_count": 7,
     "metadata": {},
     "output_type": "execute_result"
    }
   ],
   "source": [
    "df.crs"
   ]
  },
  {
   "cell_type": "markdown",
   "metadata": {},
   "source": [
    "---\n",
    "\n",
    "# Geometry Centroid"
   ]
  },
  {
   "cell_type": "markdown",
   "metadata": {},
   "source": [
    "### [BROKEN] Geometry centroid\n",
    "\n",
    "There is a .centroid property of any geometry shapely (GeoPandas) column\n",
    "https://gis.stackexchange.com/questions/166820/geopandas-return-lat-and-long-of-a-centroid-point\n",
    "\n",
    "`tracts[‘geometry’].centroid`\n",
    "\n",
    "and each of those has a `.x` and `.y` attribute (centroid is a `Point()`)\n",
    "\n",
    "#### 220k points – 4 sec desktop"
   ]
  },
  {
   "cell_type": "code",
   "execution_count": 5,
   "metadata": {},
   "outputs": [
    {
     "data": {
      "text/plain": [
       "0         POINT (-86.48653 32.46481)\n",
       "1         POINT (-86.48691 32.48239)\n",
       "2         POINT (-86.47479 32.47803)\n",
       "3         POINT (-86.47106 32.46637)\n",
       "4         POINT (-86.46033 32.47683)\n",
       "                     ...            \n",
       "220329    POINT (-66.83397 18.01606)\n",
       "220330    POINT (-66.84755 18.01719)\n",
       "220331    POINT (-66.84800 18.02319)\n",
       "220332    POINT (-66.86947 18.01268)\n",
       "220333    POINT (-66.84903 17.99513)\n",
       "Length: 220334, dtype: geometry"
      ]
     },
     "execution_count": 5,
     "metadata": {},
     "output_type": "execute_result"
    }
   ],
   "source": [
    "df['geometry'].centroid"
   ]
  },
  {
   "cell_type": "markdown",
   "metadata": {},
   "source": [
    "---\n",
    "\n",
    "## Point queries\n",
    "\n",
    "Reading raster data into Numpy ndarray takes a few seconds the first time through"
   ]
  },
  {
   "cell_type": "code",
   "execution_count": 8,
   "metadata": {},
   "outputs": [],
   "source": [
    "raster_data = pm25.read(1)"
   ]
  },
  {
   "cell_type": "markdown",
   "metadata": {},
   "source": [
    "#### 20k points – 4.5 sec laptop, 3 sec DVS lab"
   ]
  },
  {
   "cell_type": "code",
   "execution_count": 10,
   "metadata": {},
   "outputs": [
    {
     "data": {
      "text/plain": [
       "[16.299999237060547,\n",
       " 16.299999237060547,\n",
       " 16.19851024725351,\n",
       " 16.246879944502222,\n",
       " 16.1097363466093,\n",
       " 16.12439381652304,\n",
       " 16.100000381469727,\n",
       " 16.100000381469727,\n",
       " 16.100000381469727,\n",
       " 16.100000381469727]"
      ]
     },
     "execution_count": 10,
     "metadata": {},
     "output_type": "execute_result"
    }
   ],
   "source": [
    "pts = point_query(df.loc[:20000,'geometry'], raster_data, affine=pm25.transform, nodata=-999)\n",
    "pts[:10]"
   ]
  },
  {
   "cell_type": "markdown",
   "metadata": {},
   "source": [
    "#### All 220k points – 52 sec laptop, 36 sec DVS lab"
   ]
  },
  {
   "cell_type": "code",
   "execution_count": 12,
   "metadata": {},
   "outputs": [
    {
     "data": {
      "text/html": [
       "<div>\n",
       "<style scoped>\n",
       "    .dataframe tbody tr th:only-of-type {\n",
       "        vertical-align: middle;\n",
       "    }\n",
       "\n",
       "    .dataframe tbody tr th {\n",
       "        vertical-align: top;\n",
       "    }\n",
       "\n",
       "    .dataframe thead th {\n",
       "        text-align: right;\n",
       "    }\n",
       "</style>\n",
       "<table border=\"1\" class=\"dataframe\">\n",
       "  <thead>\n",
       "    <tr style=\"text-align: right;\">\n",
       "      <th></th>\n",
       "      <th>FIPS</th>\n",
       "      <th>STATE</th>\n",
       "      <th>COUNTY</th>\n",
       "      <th>TRACT</th>\n",
       "      <th>BLKGRP</th>\n",
       "      <th>POPULATION</th>\n",
       "      <th>LATITUDE</th>\n",
       "      <th>LONGITUDE</th>\n",
       "      <th>geometry</th>\n",
       "      <th>pm25</th>\n",
       "    </tr>\n",
       "  </thead>\n",
       "  <tbody>\n",
       "    <tr>\n",
       "      <th>0</th>\n",
       "      <td>010010201001</td>\n",
       "      <td>01</td>\n",
       "      <td>001</td>\n",
       "      <td>020100</td>\n",
       "      <td>1</td>\n",
       "      <td>698</td>\n",
       "      <td>32.464812</td>\n",
       "      <td>-86.486527</td>\n",
       "      <td>POINT (-86.48653 32.46481)</td>\n",
       "      <td>16.299999</td>\n",
       "    </tr>\n",
       "    <tr>\n",
       "      <th>1</th>\n",
       "      <td>010010201002</td>\n",
       "      <td>01</td>\n",
       "      <td>001</td>\n",
       "      <td>020100</td>\n",
       "      <td>2</td>\n",
       "      <td>1214</td>\n",
       "      <td>32.482391</td>\n",
       "      <td>-86.486912</td>\n",
       "      <td>POINT (-86.48691 32.48239)</td>\n",
       "      <td>16.299999</td>\n",
       "    </tr>\n",
       "    <tr>\n",
       "      <th>2</th>\n",
       "      <td>010010202001</td>\n",
       "      <td>01</td>\n",
       "      <td>001</td>\n",
       "      <td>020200</td>\n",
       "      <td>1</td>\n",
       "      <td>1003</td>\n",
       "      <td>32.478035</td>\n",
       "      <td>-86.474786</td>\n",
       "      <td>POINT (-86.47479 32.47803)</td>\n",
       "      <td>16.198510</td>\n",
       "    </tr>\n",
       "    <tr>\n",
       "      <th>3</th>\n",
       "      <td>010010202002</td>\n",
       "      <td>01</td>\n",
       "      <td>001</td>\n",
       "      <td>020200</td>\n",
       "      <td>2</td>\n",
       "      <td>1167</td>\n",
       "      <td>32.466372</td>\n",
       "      <td>-86.471060</td>\n",
       "      <td>POINT (-86.47106 32.46637)</td>\n",
       "      <td>16.246880</td>\n",
       "    </tr>\n",
       "    <tr>\n",
       "      <th>4</th>\n",
       "      <td>010010203001</td>\n",
       "      <td>01</td>\n",
       "      <td>001</td>\n",
       "      <td>020300</td>\n",
       "      <td>1</td>\n",
       "      <td>2549</td>\n",
       "      <td>32.476828</td>\n",
       "      <td>-86.460326</td>\n",
       "      <td>POINT (-86.46033 32.47683)</td>\n",
       "      <td>16.109736</td>\n",
       "    </tr>\n",
       "  </tbody>\n",
       "</table>\n",
       "</div>"
      ],
      "text/plain": [
       "           FIPS STATE COUNTY   TRACT BLKGRP  POPULATION   LATITUDE  LONGITUDE  \\\n",
       "0  010010201001    01    001  020100      1         698  32.464812 -86.486527   \n",
       "1  010010201002    01    001  020100      2        1214  32.482391 -86.486912   \n",
       "2  010010202001    01    001  020200      1        1003  32.478035 -86.474786   \n",
       "3  010010202002    01    001  020200      2        1167  32.466372 -86.471060   \n",
       "4  010010203001    01    001  020300      1        2549  32.476828 -86.460326   \n",
       "\n",
       "                     geometry       pm25  \n",
       "0  POINT (-86.48653 32.46481)  16.299999  \n",
       "1  POINT (-86.48691 32.48239)  16.299999  \n",
       "2  POINT (-86.47479 32.47803)  16.198510  \n",
       "3  POINT (-86.47106 32.46637)  16.246880  \n",
       "4  POINT (-86.46033 32.47683)  16.109736  "
      ]
     },
     "execution_count": 12,
     "metadata": {},
     "output_type": "execute_result"
    }
   ],
   "source": [
    "df['pm25'] = point_query(df['geometry'], raster_data, affine=pm25.transform, nodata=-999)\n",
    "df.head()"
   ]
  },
  {
   "cell_type": "markdown",
   "metadata": {},
   "source": [
    "## Testing whether it makes a difference to reproject point data\n",
    "\n",
    "#### 6 sec laptop, 4 sec DVS lab"
   ]
  },
  {
   "cell_type": "code",
   "execution_count": 13,
   "metadata": {},
   "outputs": [
    {
     "data": {
      "text/plain": [
       "CRS.from_epsg(4326)"
      ]
     },
     "execution_count": 13,
     "metadata": {},
     "output_type": "execute_result"
    }
   ],
   "source": [
    "df_proj = df.to_crs(pm25.crs)\n",
    "df_proj.crs"
   ]
  },
  {
   "cell_type": "markdown",
   "metadata": {},
   "source": [
    "## Projection doesn't seem to matter\n",
    "\n",
    "It must be basing the calculation only on the Affine() since the reprojection doesn't matter, and because the CRS isn't even available to `point_query()`.\n",
    "\n",
    "#### 4.5 sec laptop, 3 sec DVS lab"
   ]
  },
  {
   "cell_type": "code",
   "execution_count": 14,
   "metadata": {},
   "outputs": [
    {
     "data": {
      "text/plain": [
       "[16.299999237060547,\n",
       " 16.299999237060547,\n",
       " 16.19851024725351,\n",
       " 16.246879944502222,\n",
       " 16.1097363466093,\n",
       " 16.12439381652304,\n",
       " 16.100000381469727,\n",
       " 16.100000381469727,\n",
       " 16.100000381469727,\n",
       " 16.100000381469727]"
      ]
     },
     "execution_count": 14,
     "metadata": {},
     "output_type": "execute_result"
    }
   ],
   "source": [
    "pts = point_query(df_proj.loc[:20000,'geometry'], raster_data, affine=pm25.transform, nodata=-999)\n",
    "pts[:10]"
   ]
  },
  {
   "cell_type": "markdown",
   "metadata": {},
   "source": [
    "---\n",
    "\n",
    "## Using NetCDF instead\n",
    "\n",
    "Doesn't seem to matter that the NetCDF version doesn't have a CRS attached.\n",
    "\n",
    "#### 20k points – 5 sec laptop, 3 sec DVS lab"
   ]
  },
  {
   "cell_type": "code",
   "execution_count": 16,
   "metadata": {},
   "outputs": [],
   "source": [
    "raster_nc = pm25_nc.read(1)"
   ]
  },
  {
   "cell_type": "code",
   "execution_count": 17,
   "metadata": {},
   "outputs": [
    {
     "data": {
      "text/plain": [
       "[16.299999237060547,\n",
       " 16.299999237060547,\n",
       " 16.198521303380947,\n",
       " 16.24689525936792,\n",
       " 16.109739527068022,\n",
       " 16.124409056380433,\n",
       " 16.100000381469727,\n",
       " 16.100000381469727,\n",
       " 16.100000381469727,\n",
       " 16.100000381469727]"
      ]
     },
     "execution_count": 17,
     "metadata": {},
     "output_type": "execute_result"
    }
   ],
   "source": [
    "pts = point_query(df.loc[:20000,'geometry'], raster_nc, affine=pm25_nc.transform, nodata=-999)\n",
    "pts[:10]"
   ]
  },
  {
   "cell_type": "code",
   "execution_count": null,
   "metadata": {},
   "outputs": [],
   "source": []
  }
 ],
 "metadata": {
  "kernelspec": {
   "display_name": "Python 3",
   "language": "python",
   "name": "python3"
  },
  "language_info": {
   "codemirror_mode": {
    "name": "ipython",
    "version": 3
   },
   "file_extension": ".py",
   "mimetype": "text/x-python",
   "name": "python",
   "nbconvert_exporter": "python",
   "pygments_lexer": "ipython3",
   "version": "3.6.7"
  }
 },
 "nbformat": 4,
 "nbformat_minor": 4
}
