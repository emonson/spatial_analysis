{
 "cells": [
  {
   "cell_type": "code",
   "execution_count": 1,
   "metadata": {},
   "outputs": [],
   "source": [
    "from rasterstats import zonal_stats, point_query\n",
    "import rasterio\n",
    "import fiona\n",
    "from shapely.geometry import Point"
   ]
  },
  {
   "cell_type": "markdown",
   "metadata": {},
   "source": [
    "## Reading zipped ASCII file\n",
    "\n",
    "https://rasterio.readthedocs.io/en/stable/topics/datasets.html"
   ]
  },
  {
   "cell_type": "code",
   "execution_count": 2,
   "metadata": {},
   "outputs": [
    {
     "data": {
      "text/plain": [
       "{'driver': 'AAIGrid',\n",
       " 'dtype': 'float32',\n",
       " 'nodata': -999.9000244140625,\n",
       " 'width': 9300,\n",
       " 'height': 4550,\n",
       " 'count': 1,\n",
       " 'crs': CRS.from_epsg(4326),\n",
       " 'transform': Affine(0.01, 0.0, -138.0,\n",
       "        0.0, -0.01, 68.0)}"
      ]
     },
     "execution_count": 2,
     "metadata": {},
     "output_type": "execute_result"
    }
   ],
   "source": [
    "pm25 = rasterio.open('zip://GWRwSPEC_PM25_NA_200001_200012-RH35-NoNegs.asc.zip!/GWRwSPEC_PM25_NA_200001_200012-RH35-NoNegs.asc')\n",
    "pm25.meta"
   ]
  },
  {
   "cell_type": "markdown",
   "metadata": {},
   "source": [
    ".transform now returns an Affine()"
   ]
  },
  {
   "cell_type": "code",
   "execution_count": 3,
   "metadata": {},
   "outputs": [
    {
     "data": {
      "text/plain": [
       "CRS.from_epsg(4326)"
      ]
     },
     "execution_count": 3,
     "metadata": {},
     "output_type": "execute_result"
    }
   ],
   "source": [
    "pm25.crs"
   ]
  },
  {
   "cell_type": "code",
   "execution_count": 4,
   "metadata": {},
   "outputs": [
    {
     "data": {
      "text/plain": [
       "Affine(0.01, 0.0, -138.0,\n",
       "       0.0, -0.01, 68.0)"
      ]
     },
     "execution_count": 4,
     "metadata": {},
     "output_type": "execute_result"
    }
   ],
   "source": [
    "pm25.transform"
   ]
  },
  {
   "cell_type": "code",
   "execution_count": 5,
   "metadata": {},
   "outputs": [
    {
     "data": {
      "text/plain": [
       "array([[   1.6,    1.6,    1.6, ...,    1.2,    1.2,    1.2],\n",
       "       [   1.6,    1.6,    1.6, ...,    1.2,    1.2,    1.2],\n",
       "       [   1.6,    1.6,    1.6, ...,    1.2,    1.2,    1.2],\n",
       "       ...,\n",
       "       [-999.9, -999.9, -999.9, ..., -999.9, -999.9, -999.9],\n",
       "       [-999.9, -999.9, -999.9, ..., -999.9, -999.9, -999.9],\n",
       "       [-999.9, -999.9, -999.9, ..., -999.9, -999.9, -999.9]],\n",
       "      dtype=float32)"
      ]
     },
     "execution_count": 5,
     "metadata": {},
     "output_type": "execute_result"
    }
   ],
   "source": [
    "pm25.read(1)"
   ]
  },
  {
   "cell_type": "code",
   "execution_count": 6,
   "metadata": {},
   "outputs": [],
   "source": [
    "c = fiona.open('zip://popctr_blkgrp2010.zip')"
   ]
  },
  {
   "cell_type": "code",
   "execution_count": 7,
   "metadata": {},
   "outputs": [
    {
     "data": {
      "text/plain": [
       "220334"
      ]
     },
     "execution_count": 7,
     "metadata": {},
     "output_type": "execute_result"
    }
   ],
   "source": [
    "len(c)"
   ]
  },
  {
   "cell_type": "code",
   "execution_count": 8,
   "metadata": {},
   "outputs": [
    {
     "data": {
      "text/plain": [
       "{'driver': 'ESRI Shapefile',\n",
       " 'schema': {'properties': OrderedDict([('FIPS', 'str:12'),\n",
       "               ('STATE', 'str:2'),\n",
       "               ('COUNTY', 'str:3'),\n",
       "               ('TRACT', 'str:6'),\n",
       "               ('BLKGRP', 'str:1'),\n",
       "               ('POPULATION', 'int:5'),\n",
       "               ('LATITUDE', 'float:9.6'),\n",
       "               ('LONGITUDE', 'float:11.6')]),\n",
       "  'geometry': 'Point'},\n",
       " 'crs': {'init': 'epsg:4269'},\n",
       " 'crs_wkt': 'GEOGCS[\"NAD83\",DATUM[\"North_American_Datum_1983\",SPHEROID[\"GRS 1980\",6378137,298.257222101,AUTHORITY[\"EPSG\",\"7019\"]],TOWGS84[0,0,0,0,0,0,0],AUTHORITY[\"EPSG\",\"6269\"]],PRIMEM[\"Greenwich\",0,AUTHORITY[\"EPSG\",\"8901\"]],UNIT[\"degree\",0.0174532925199433,AUTHORITY[\"EPSG\",\"9122\"]],AXIS[\"Latitude\",NORTH],AXIS[\"Longitude\",EAST],AUTHORITY[\"EPSG\",\"4269\"]]'}"
      ]
     },
     "execution_count": 8,
     "metadata": {},
     "output_type": "execute_result"
    }
   ],
   "source": [
    "c.meta"
   ]
  },
  {
   "cell_type": "code",
   "execution_count": 9,
   "metadata": {},
   "outputs": [
    {
     "data": {
      "image/svg+xml": [
       "<svg xmlns=\"http://www.w3.org/2000/svg\" xmlns:xlink=\"http://www.w3.org/1999/xlink\" width=\"100.0\" height=\"100.0\" viewBox=\"-87.486527 31.464812000000002 2.0 2.0\" preserveAspectRatio=\"xMinYMin meet\"><g transform=\"matrix(1,0,0,-1,0,64.929624)\"><circle cx=\"-86.486527\" cy=\"32.464812\" r=\"0.06\" stroke=\"#555555\" stroke-width=\"0.02\" fill=\"#66cc99\" opacity=\"0.6\" /></g></svg>"
      ],
      "text/plain": [
       "<shapely.geometry.point.Point at 0x1361d66a0>"
      ]
     },
     "execution_count": 9,
     "metadata": {},
     "output_type": "execute_result"
    }
   ],
   "source": [
    "rec = next(iter(c))\n",
    "pt = Point(rec['geometry']['coordinates'])\n",
    "pt"
   ]
  },
  {
   "cell_type": "code",
   "execution_count": 10,
   "metadata": {},
   "outputs": [
    {
     "data": {
      "text/plain": [
       "{'type': 'Feature',\n",
       " 'id': '0',\n",
       " 'properties': OrderedDict([('FIPS', '010010201001'),\n",
       "              ('STATE', '01'),\n",
       "              ('COUNTY', '001'),\n",
       "              ('TRACT', '020100'),\n",
       "              ('BLKGRP', '1'),\n",
       "              ('POPULATION', 698),\n",
       "              ('LATITUDE', 32.464812),\n",
       "              ('LONGITUDE', -86.486527)]),\n",
       " 'geometry': {'type': 'Point', 'coordinates': (-86.486527, 32.464812)}}"
      ]
     },
     "execution_count": 10,
     "metadata": {},
     "output_type": "execute_result"
    }
   ],
   "source": [
    "rec"
   ]
  },
  {
   "cell_type": "markdown",
   "metadata": {},
   "source": [
    "## Point queries\n",
    "\n",
    "Would like some verification that the point_query is paying attention to the differing CRS of each of these..."
   ]
  },
  {
   "cell_type": "code",
   "execution_count": 11,
   "metadata": {},
   "outputs": [
    {
     "data": {
      "text/plain": [
       "[16.299999237060547]"
      ]
     },
     "execution_count": 11,
     "metadata": {},
     "output_type": "execute_result"
    }
   ],
   "source": [
    "point_query([pt], pm25.read(1), affine=pm25.transform, nodata=-999)"
   ]
  },
  {
   "cell_type": "code",
   "execution_count": 12,
   "metadata": {},
   "outputs": [],
   "source": [
    "pts_list = []\n",
    "for cc in iter(c):\n",
    "    pts_list.append(Point(cc['geometry']['coordinates']))\n",
    "    if len(pts_list)==10:\n",
    "        break"
   ]
  },
  {
   "cell_type": "code",
   "execution_count": 13,
   "metadata": {},
   "outputs": [
    {
     "data": {
      "text/plain": [
       "[16.299999237060547,\n",
       " 16.299999237060547,\n",
       " 16.19851024725351,\n",
       " 16.246879944502222,\n",
       " 16.1097363466093,\n",
       " 16.12439381652304,\n",
       " 16.100000381469727,\n",
       " 16.100000381469727,\n",
       " 16.100000381469727,\n",
       " 16.100000381469727]"
      ]
     },
     "execution_count": 13,
     "metadata": {},
     "output_type": "execute_result"
    }
   ],
   "source": [
    "pts = point_query(pts_list, pm25.read(1), affine=pm25.transform, nodata=-999)\n",
    "pts"
   ]
  },
  {
   "cell_type": "markdown",
   "metadata": {},
   "source": [
    "## Just do the query on shapefile directly"
   ]
  },
  {
   "cell_type": "markdown",
   "metadata": {},
   "source": [
    "### 42 sec laptop, 72 sec desktop, ?? sec DVS lab"
   ]
  },
  {
   "cell_type": "code",
   "execution_count": 14,
   "metadata": {},
   "outputs": [],
   "source": [
    "pts = point_query(c, pm25.read(1), affine=pm25.transform, nodata=-999)"
   ]
  },
  {
   "cell_type": "code",
   "execution_count": 15,
   "metadata": {},
   "outputs": [
    {
     "data": {
      "text/plain": [
       "220334"
      ]
     },
     "execution_count": 15,
     "metadata": {},
     "output_type": "execute_result"
    }
   ],
   "source": [
    "len(pts)"
   ]
  },
  {
   "cell_type": "code",
   "execution_count": 16,
   "metadata": {},
   "outputs": [
    {
     "data": {
      "text/plain": [
       "[16.299999237060547,\n",
       " 16.299999237060547,\n",
       " 16.19851024725351,\n",
       " 16.246879944502222,\n",
       " 16.1097363466093,\n",
       " 16.12439381652304,\n",
       " 16.100000381469727,\n",
       " 16.100000381469727,\n",
       " 16.100000381469727,\n",
       " 16.100000381469727]"
      ]
     },
     "execution_count": 16,
     "metadata": {},
     "output_type": "execute_result"
    }
   ],
   "source": [
    "pts[:10]"
   ]
  },
  {
   "cell_type": "markdown",
   "metadata": {},
   "source": [
    "### That seems to be the same as when grab points..."
   ]
  },
  {
   "cell_type": "markdown",
   "metadata": {},
   "source": [
    "---\n",
    "\n",
    "### Just grab all the points out of the shapefile"
   ]
  },
  {
   "cell_type": "code",
   "execution_count": 17,
   "metadata": {},
   "outputs": [
    {
     "data": {
      "text/plain": [
       "[<shapely.geometry.point.Point at 0x14058f518>,\n",
       " <shapely.geometry.point.Point at 0x14058f4e0>,\n",
       " <shapely.geometry.point.Point at 0x14058f7b8>,\n",
       " <shapely.geometry.point.Point at 0x14058f7f0>,\n",
       " <shapely.geometry.point.Point at 0x14058f828>,\n",
       " <shapely.geometry.point.Point at 0x1361cdac8>,\n",
       " <shapely.geometry.point.Point at 0x14058f470>,\n",
       " <shapely.geometry.point.Point at 0x14058f4a8>,\n",
       " <shapely.geometry.point.Point at 0x14058f860>,\n",
       " <shapely.geometry.point.Point at 0x14058f898>]"
      ]
     },
     "execution_count": 17,
     "metadata": {},
     "output_type": "execute_result"
    }
   ],
   "source": [
    "full_pts = [Point(cc['geometry']['coordinates']) for cc in iter(c)]\n",
    "full_pts[:10]"
   ]
  },
  {
   "cell_type": "code",
   "execution_count": 18,
   "metadata": {},
   "outputs": [
    {
     "data": {
      "text/plain": [
       "220334"
      ]
     },
     "execution_count": 18,
     "metadata": {},
     "output_type": "execute_result"
    }
   ],
   "source": [
    "len(full_pts)"
   ]
  },
  {
   "cell_type": "markdown",
   "metadata": {},
   "source": [
    "### 2 sec"
   ]
  },
  {
   "cell_type": "code",
   "execution_count": 19,
   "metadata": {},
   "outputs": [
    {
     "data": {
      "text/plain": [
       "[11.761720062264374,\n",
       " 11.789500150680539,\n",
       " 11.707340627268032,\n",
       " 13.076494545913299,\n",
       " 13.36290983076092,\n",
       " 12.660678060852362,\n",
       " 12.12775029658391,\n",
       " 13.304109938908024,\n",
       " 12.602310200882357,\n",
       " 11.881680069160332]"
      ]
     },
     "execution_count": 19,
     "metadata": {},
     "output_type": "execute_result"
    }
   ],
   "source": [
    "pts = point_query(full_pts[:10000], pm25.read(1), affine=pm25.transform, nodata=-999)\n",
    "pts[-10:]"
   ]
  },
  {
   "cell_type": "markdown",
   "metadata": {},
   "source": [
    "### 18 sec"
   ]
  },
  {
   "cell_type": "code",
   "execution_count": 20,
   "metadata": {},
   "outputs": [
    {
     "data": {
      "text/plain": [
       "[10.548170183753996,\n",
       " 10.56679020896553,\n",
       " 10.626140231895388,\n",
       " 10.532180122756928,\n",
       " 10.700297770401756,\n",
       " 10.699999809265137,\n",
       " 10.665676559665428,\n",
       " 10.671079974746688,\n",
       " 10.787997923950002,\n",
       " 10.706289833259572]"
      ]
     },
     "execution_count": 20,
     "metadata": {},
     "output_type": "execute_result"
    }
   ],
   "source": [
    "pts = point_query(full_pts[:100000], pm25.read(1), affine=pm25.transform, nodata=-999)\n",
    "pts[-10:]"
   ]
  },
  {
   "cell_type": "markdown",
   "metadata": {},
   "source": [
    "### 42 sec"
   ]
  },
  {
   "cell_type": "code",
   "execution_count": 21,
   "metadata": {},
   "outputs": [
    {
     "data": {
      "text/plain": [
       "[None, None, None, None, None, None, None, None, None, None]"
      ]
     },
     "execution_count": 21,
     "metadata": {},
     "output_type": "execute_result"
    }
   ],
   "source": [
    "pts = point_query(full_pts, pm25.read(1), affine=pm25.transform, nodata=-999)\n",
    "pts[-10:]"
   ]
  },
  {
   "cell_type": "code",
   "execution_count": 22,
   "metadata": {},
   "outputs": [],
   "source": [
    "c.close()\n",
    "pm25.close()"
   ]
  },
  {
   "cell_type": "code",
   "execution_count": null,
   "metadata": {},
   "outputs": [],
   "source": []
  }
 ],
 "metadata": {
  "kernelspec": {
   "display_name": "Python 3",
   "language": "python",
   "name": "python3"
  },
  "language_info": {
   "codemirror_mode": {
    "name": "ipython",
    "version": 3
   },
   "file_extension": ".py",
   "mimetype": "text/x-python",
   "name": "python",
   "nbconvert_exporter": "python",
   "pygments_lexer": "ipython3",
   "version": "3.6.7"
  }
 },
 "nbformat": 4,
 "nbformat_minor": 4
}
